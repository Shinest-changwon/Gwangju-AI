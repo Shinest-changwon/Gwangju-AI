{
  "nbformat": 4,
  "nbformat_minor": 0,
  "metadata": {
    "colab": {
      "name": "Untitled0.ipynb",
      "provenance": [],
      "authorship_tag": "ABX9TyMzRKDQ8PuRNlOBKer5i7P+",
      "include_colab_link": true
    },
    "kernelspec": {
      "name": "python3",
      "display_name": "Python 3"
    }
  },
  "cells": [
    {
      "cell_type": "markdown",
      "metadata": {
        "id": "view-in-github",
        "colab_type": "text"
      },
      "source": [
        "<a href=\"https://colab.research.google.com/github/Shinest-changwon/Gwangju-AI/blob/master/Untitled0.ipynb\" target=\"_parent\"><img src=\"https://colab.research.google.com/assets/colab-badge.svg\" alt=\"Open In Colab\"/></a>"
      ]
    },
    {
      "cell_type": "markdown",
      "metadata": {
        "id": "Pjdhd-K_ov6e",
        "colab_type": "text"
      },
      "source": [
        "#1주차 과제"
      ]
    },
    {
      "cell_type": "markdown",
      "metadata": {
        "id": "6l5DuZYcprxK",
        "colab_type": "text"
      },
      "source": [
        "~~취소선~~"
      ]
    },
    {
      "cell_type": "markdown",
      "metadata": {
        "id": "u_3-0r45pvJn",
        "colab_type": "text"
      },
      "source": [
        "*이탤릭체*"
      ]
    },
    {
      "cell_type": "markdown",
      "metadata": {
        "id": "iZDLoBz-p3eP",
        "colab_type": "text"
      },
      "source": [
        "* 1. 리스트\n",
        " - 1-1. 하위리스트\n",
        "* 2. 리스트"
      ]
    },
    {
      "cell_type": "markdown",
      "metadata": {
        "id": "4Vua5pkjqMlc",
        "colab_type": "text"
      },
      "source": [
        "1. 1번\n",
        "2. 2번\n",
        "3. 3번"
      ]
    },
    {
      "cell_type": "markdown",
      "metadata": {
        "id": "T-qZxbrqqhWH",
        "colab_type": "text"
      },
      "source": [
        "> 왜그래"
      ]
    },
    {
      "cell_type": "markdown",
      "metadata": {
        "id": "HSOhAdEWqnD3",
        "colab_type": "text"
      },
      "source": [
        "----------"
      ]
    },
    {
      "cell_type": "markdown",
      "metadata": {
        "id": "E4U9gletqrhY",
        "colab_type": "text"
      },
      "source": [
        "[과제1](http://google.com)"
      ]
    }
  ]
}