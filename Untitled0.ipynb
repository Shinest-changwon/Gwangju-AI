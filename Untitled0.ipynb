{
  "nbformat": 4,
  "nbformat_minor": 0,
  "metadata": {
    "colab": {
      "name": "Untitled0.ipynb",
      "provenance": [],
      "authorship_tag": "ABX9TyOkrZcZv3c7dbQ2+soT06vr",
      "include_colab_link": true
    },
    "kernelspec": {
      "name": "python3",
      "display_name": "Python 3"
    }
  },
  "cells": [
    {
      "cell_type": "markdown",
      "metadata": {
        "id": "view-in-github",
        "colab_type": "text"
      },
      "source": [
        "<a href=\"https://colab.research.google.com/github/Shinest-changwon/Gwangju-AI/blob/master/Untitled0.ipynb\" target=\"_parent\"><img src=\"https://colab.research.google.com/assets/colab-badge.svg\" alt=\"Open In Colab\"/></a>"
      ]
    },
    {
      "cell_type": "markdown",
      "metadata": {
        "id": "JclpzbmsH4Er",
        "colab_type": "text"
      },
      "source": [
        "#인공지능 사관학교 프리코스 과제 목차"
      ]
    },
    {
      "cell_type": "markdown",
      "metadata": {
        "id": "Cjq9JjjuH6XH",
        "colab_type": "text"
      },
      "source": [
        "####1주차 과제(2020.05.30)"
      ]
    },
    {
      "cell_type": "markdown",
      "metadata": {
        "id": "FdDwRn_BIewt",
        "colab_type": "text"
      },
      "source": [
        ""
      ]
    }
  ]
}